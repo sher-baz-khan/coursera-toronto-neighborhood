{
    "nbformat_minor": 1, 
    "cells": [
        {
            "source": "# This assignment deals with clustering and segmenting Toronto neighborhoods.", 
            "cell_type": "markdown", 
            "metadata": {}
        }, 
        {
            "source": "### Let's start by importing relevant libraries.", 
            "cell_type": "markdown", 
            "metadata": {}
        }, 
        {
            "execution_count": 3, 
            "cell_type": "code", 
            "metadata": {}, 
            "outputs": [
                {
                    "output_type": "stream", 
                    "name": "stdout", 
                    "text": "Fetching package metadata .............\nSolving package specifications: .\n\nPackage plan for installation in environment /opt/conda/envs/DSX-Python35:\n\nThe following NEW packages will be INSTALLED:\n\n    geographiclib: 1.49-py_0   conda-forge\n    geopy:         1.18.1-py_0 conda-forge\n\ngeographiclib- 100% |################################| Time: 0:00:00  25.23 MB/s\ngeopy-1.18.1-p 100% |################################| Time: 0:00:00  35.88 MB/s\nFetching package metadata .............\nSolving package specifications: .\n\nPackage plan for installation in environment /opt/conda/envs/DSX-Python35:\n\nThe following NEW packages will be INSTALLED:\n\n    altair:  2.2.2-py35_1 conda-forge\n    branca:  0.3.1-py_0   conda-forge\n    folium:  0.5.0-py_0   conda-forge\n    vincent: 0.4.4-py_1   conda-forge\n\naltair-2.2.2-p 100% |################################| Time: 0:00:00  53.36 MB/s\nbranca-0.3.1-p 100% |################################| Time: 0:00:00  36.81 MB/s\nvincent-0.4.4- 100% |################################| Time: 0:00:00  39.51 MB/s\nfolium-0.5.0-p 100% |################################| Time: 0:00:00  45.94 MB/s\nLibraries imported.\n"
                }
            ], 
            "source": "import numpy as np # library to handle data in a vectorized manner\n\nimport pandas as pd # library for data analsysis\npd.set_option('display.max_columns', None)\npd.set_option('display.max_rows', None)\n\nimport json # library to handle JSON files\n\n!conda install -c conda-forge geopy --yes # uncomment this line if you haven't completed the Foursquare API lab\nfrom geopy.geocoders import Nominatim # convert an address into latitude and longitude values\n\nimport requests # library to handle requests\nfrom pandas.io.json import json_normalize # tranform JSON file into a pandas dataframe\n\n# Matplotlib and associated plotting modules\nimport matplotlib.cm as cm\nimport matplotlib.colors as colors\n\n# import k-means from clustering stage\nfrom sklearn.cluster import KMeans\n\n!conda install -c conda-forge folium=0.5.0 --yes # uncomment this line if you haven't completed the Foursquare API lab\nimport folium # map rendering library\n\nprint('Libraries imported.')"
        }, 
        {
            "source": "### Scrap the wikipedia file to extract the table of postal codes of Toronto area using pandas read_html() method and display the data frame.", 
            "cell_type": "markdown", 
            "metadata": {}
        }, 
        {
            "execution_count": 4, 
            "cell_type": "code", 
            "metadata": {}, 
            "outputs": [
                {
                    "execution_count": 4, 
                    "metadata": {}, 
                    "data": {
                        "text/html": "<div>\n<style scoped>\n    .dataframe tbody tr th:only-of-type {\n        vertical-align: middle;\n    }\n\n    .dataframe tbody tr th {\n        vertical-align: top;\n    }\n\n    .dataframe thead th {\n        text-align: right;\n    }\n</style>\n<table border=\"1\" class=\"dataframe\">\n  <thead>\n    <tr style=\"text-align: right;\">\n      <th></th>\n      <th>Postcode</th>\n      <th>Borough</th>\n      <th>Neighbourhood</th>\n    </tr>\n  </thead>\n  <tbody>\n    <tr>\n      <th>0</th>\n      <td>M1A</td>\n      <td>Not assigned</td>\n      <td>Not assigned</td>\n    </tr>\n    <tr>\n      <th>1</th>\n      <td>M2A</td>\n      <td>Not assigned</td>\n      <td>Not assigned</td>\n    </tr>\n    <tr>\n      <th>2</th>\n      <td>M3A</td>\n      <td>North York</td>\n      <td>Parkwoods</td>\n    </tr>\n    <tr>\n      <th>3</th>\n      <td>M4A</td>\n      <td>North York</td>\n      <td>Victoria Village</td>\n    </tr>\n    <tr>\n      <th>4</th>\n      <td>M5A</td>\n      <td>Downtown Toronto</td>\n      <td>Harbourfront</td>\n    </tr>\n  </tbody>\n</table>\n</div>", 
                        "text/plain": "  Postcode           Borough     Neighbourhood\n0      M1A      Not assigned      Not assigned\n1      M2A      Not assigned      Not assigned\n2      M3A        North York         Parkwoods\n3      M4A        North York  Victoria Village\n4      M5A  Downtown Toronto      Harbourfront"
                    }, 
                    "output_type": "execute_result"
                }
            ], 
            "source": "data = pd.read_html('https://en.wikipedia.org/wiki/List_of_postal_codes_of_Canada:_M', header = 0)\n\ndf = pd.DataFrame(data[0])\ndf.head()"
        }, 
        {
            "source": "### Let's see the total number of columns in the scrapped table of data.", 
            "cell_type": "markdown", 
            "metadata": {}
        }, 
        {
            "execution_count": 5, 
            "cell_type": "code", 
            "metadata": {}, 
            "outputs": [
                {
                    "execution_count": 5, 
                    "metadata": {}, 
                    "data": {
                        "text/plain": "(289, 3)"
                    }, 
                    "output_type": "execute_result"
                }
            ], 
            "source": "df.shape"
        }, 
        {
            "source": "### Eliminate entries from the second column \"Borough\" that has the phrase \"Not assigned\".", 
            "cell_type": "markdown", 
            "metadata": {}
        }, 
        {
            "execution_count": 6, 
            "cell_type": "code", 
            "metadata": {}, 
            "outputs": [
                {
                    "execution_count": 6, 
                    "metadata": {}, 
                    "data": {
                        "text/html": "<div>\n<style scoped>\n    .dataframe tbody tr th:only-of-type {\n        vertical-align: middle;\n    }\n\n    .dataframe tbody tr th {\n        vertical-align: top;\n    }\n\n    .dataframe thead th {\n        text-align: right;\n    }\n</style>\n<table border=\"1\" class=\"dataframe\">\n  <thead>\n    <tr style=\"text-align: right;\">\n      <th></th>\n      <th>Postcode</th>\n      <th>Borough</th>\n      <th>Neighbourhood</th>\n    </tr>\n  </thead>\n  <tbody>\n    <tr>\n      <th>2</th>\n      <td>M3A</td>\n      <td>North York</td>\n      <td>Parkwoods</td>\n    </tr>\n    <tr>\n      <th>3</th>\n      <td>M4A</td>\n      <td>North York</td>\n      <td>Victoria Village</td>\n    </tr>\n    <tr>\n      <th>4</th>\n      <td>M5A</td>\n      <td>Downtown Toronto</td>\n      <td>Harbourfront</td>\n    </tr>\n    <tr>\n      <th>5</th>\n      <td>M5A</td>\n      <td>Downtown Toronto</td>\n      <td>Regent Park</td>\n    </tr>\n    <tr>\n      <th>6</th>\n      <td>M6A</td>\n      <td>North York</td>\n      <td>Lawrence Heights</td>\n    </tr>\n  </tbody>\n</table>\n</div>", 
                        "text/plain": "  Postcode           Borough     Neighbourhood\n2      M3A        North York         Parkwoods\n3      M4A        North York  Victoria Village\n4      M5A  Downtown Toronto      Harbourfront\n5      M5A  Downtown Toronto       Regent Park\n6      M6A        North York  Lawrence Heights"
                    }, 
                    "output_type": "execute_result"
                }
            ], 
            "source": "df= df[df.Borough != 'Not assigned']\ndf.head()"
        }, 
        {
            "source": "### Let's check whether the number of rows reduced or not.", 
            "cell_type": "markdown", 
            "metadata": {}
        }, 
        {
            "execution_count": 7, 
            "cell_type": "code", 
            "metadata": {}, 
            "outputs": [
                {
                    "execution_count": 7, 
                    "metadata": {}, 
                    "data": {
                        "text/plain": "(212, 3)"
                    }, 
                    "output_type": "execute_result"
                }
            ], 
            "source": "df.shape"
        }, 
        {
            "source": "### Group the neighborhoods and boroughs with identical postal codes.", 
            "cell_type": "markdown", 
            "metadata": {}
        }, 
        {
            "execution_count": 8, 
            "cell_type": "code", 
            "metadata": {}, 
            "outputs": [
                {
                    "execution_count": 8, 
                    "metadata": {}, 
                    "data": {
                        "text/html": "<div>\n<style scoped>\n    .dataframe tbody tr th:only-of-type {\n        vertical-align: middle;\n    }\n\n    .dataframe tbody tr th {\n        vertical-align: top;\n    }\n\n    .dataframe thead th {\n        text-align: right;\n    }\n</style>\n<table border=\"1\" class=\"dataframe\">\n  <thead>\n    <tr style=\"text-align: right;\">\n      <th></th>\n      <th></th>\n      <th></th>\n      <th>Postcode</th>\n      <th>Neighbourhood</th>\n    </tr>\n    <tr>\n      <th>Postcode</th>\n      <th>Borough</th>\n      <th>Neighbourhood</th>\n      <th></th>\n      <th></th>\n    </tr>\n  </thead>\n  <tbody>\n    <tr>\n      <th rowspan=\"2\" valign=\"top\">M1B</th>\n      <th rowspan=\"2\" valign=\"top\">Scarborough</th>\n      <th>Malvern</th>\n      <td>M1B</td>\n      <td>Malvern</td>\n    </tr>\n    <tr>\n      <th>Rouge</th>\n      <td>M1B</td>\n      <td>Rouge</td>\n    </tr>\n    <tr>\n      <th rowspan=\"3\" valign=\"top\">M1C</th>\n      <th rowspan=\"3\" valign=\"top\">Scarborough</th>\n      <th>Highland Creek</th>\n      <td>M1C</td>\n      <td>Highland Creek</td>\n    </tr>\n    <tr>\n      <th>Port Union</th>\n      <td>M1C</td>\n      <td>Port Union</td>\n    </tr>\n    <tr>\n      <th>Rouge Hill</th>\n      <td>M1C</td>\n      <td>Rouge Hill</td>\n    </tr>\n  </tbody>\n</table>\n</div>", 
                        "text/plain": "                                    Postcode   Neighbourhood\nPostcode Borough     Neighbourhood                          \nM1B      Scarborough Malvern             M1B         Malvern\n                     Rouge               M1B           Rouge\nM1C      Scarborough Highland Creek      M1C  Highland Creek\n                     Port Union          M1C      Port Union\n                     Rouge Hill          M1C      Rouge Hill"
                    }, 
                    "output_type": "execute_result"
                }
            ], 
            "source": "df = df.groupby(['Postcode', 'Borough', 'Neighbourhood']).agg({'Postcode':lambda x: ', '.join(tuple(x.tolist())),\n\n                                     'Neighbourhood':lambda x: ', '.join(tuple(x.tolist()))}\n                                   )\ndf.head(5)"
        }, 
        {
            "source": "### Merging all those neighborhoods with the same postal codes.", 
            "cell_type": "markdown", 
            "metadata": {}
        }, 
        {
            "execution_count": 9, 
            "cell_type": "code", 
            "metadata": {}, 
            "outputs": [
                {
                    "execution_count": 9, 
                    "metadata": {}, 
                    "data": {
                        "text/html": "<div>\n<style scoped>\n    .dataframe tbody tr th:only-of-type {\n        vertical-align: middle;\n    }\n\n    .dataframe tbody tr th {\n        vertical-align: top;\n    }\n\n    .dataframe thead th {\n        text-align: right;\n    }\n</style>\n<table border=\"1\" class=\"dataframe\">\n  <thead>\n    <tr style=\"text-align: right;\">\n      <th></th>\n      <th>Borough</th>\n      <th>Postcode</th>\n      <th>Neighbourhood</th>\n    </tr>\n  </thead>\n  <tbody>\n    <tr>\n      <th>0</th>\n      <td>Central Toronto</td>\n      <td>M4N</td>\n      <td>Lawrence Park, Davisville North, North Toronto...</td>\n    </tr>\n    <tr>\n      <th>1</th>\n      <td>Downtown Toronto</td>\n      <td>M4W</td>\n      <td>Rosedale, Cabbagetown, St. James Town, Church ...</td>\n    </tr>\n    <tr>\n      <th>2</th>\n      <td>East Toronto</td>\n      <td>M4E</td>\n      <td>The Beaches, Riverdale, The Danforth West, Ind...</td>\n    </tr>\n    <tr>\n      <th>3</th>\n      <td>East York</td>\n      <td>M4B</td>\n      <td>Parkview Hill, Woodbine Gardens, Woodbine Heig...</td>\n    </tr>\n    <tr>\n      <th>4</th>\n      <td>Etobicoke</td>\n      <td>M8V</td>\n      <td>Humber Bay Shores, Mimico South, New Toronto, ...</td>\n    </tr>\n    <tr>\n      <th>5</th>\n      <td>Mississauga</td>\n      <td>M7R</td>\n      <td>Canada Post Gateway Processing Centre</td>\n    </tr>\n    <tr>\n      <th>6</th>\n      <td>North York</td>\n      <td>M2H</td>\n      <td>Hillcrest Village, Fairview, Henry Farm, Oriol...</td>\n    </tr>\n    <tr>\n      <th>7</th>\n      <td>Queen's Park</td>\n      <td>M7A</td>\n      <td>Not assigned</td>\n    </tr>\n    <tr>\n      <th>8</th>\n      <td>Scarborough</td>\n      <td>M1B</td>\n      <td>Malvern, Rouge, Highland Creek, Port Union, Ro...</td>\n    </tr>\n    <tr>\n      <th>9</th>\n      <td>West Toronto</td>\n      <td>M6H</td>\n      <td>Dovercourt Village, Dufferin, Little Portugal,...</td>\n    </tr>\n    <tr>\n      <th>10</th>\n      <td>York</td>\n      <td>M6C</td>\n      <td>Humewood-Cedarvale, Caledonia-Fairbanks, Del R...</td>\n    </tr>\n  </tbody>\n</table>\n</div>", 
                        "text/plain": "             Borough Postcode  \\\n0    Central Toronto      M4N   \n1   Downtown Toronto      M4W   \n2       East Toronto      M4E   \n3          East York      M4B   \n4          Etobicoke      M8V   \n5        Mississauga      M7R   \n6         North York      M2H   \n7       Queen's Park      M7A   \n8        Scarborough      M1B   \n9       West Toronto      M6H   \n10              York      M6C   \n\n                                        Neighbourhood  \n0   Lawrence Park, Davisville North, North Toronto...  \n1   Rosedale, Cabbagetown, St. James Town, Church ...  \n2   The Beaches, Riverdale, The Danforth West, Ind...  \n3   Parkview Hill, Woodbine Gardens, Woodbine Heig...  \n4   Humber Bay Shores, Mimico South, New Toronto, ...  \n5               Canada Post Gateway Processing Centre  \n6   Hillcrest Village, Fairview, Henry Farm, Oriol...  \n7                                        Not assigned  \n8   Malvern, Rouge, Highland Creek, Port Union, Ro...  \n9   Dovercourt Village, Dufferin, Little Portugal,...  \n10  Humewood-Cedarvale, Caledonia-Fairbanks, Del R...  "
                    }, 
                    "output_type": "execute_result"
                }
            ], 
            "source": "df = df.groupby('Borough').agg({'Postcode':'first', \n                             'Neighbourhood': ', '.join \n                              }).reset_index()\ndf.head(20)"
        }, 
        {
            "source": "### Re-arrange the columns by shifting \"Postcode\" in the first column.", 
            "cell_type": "markdown", 
            "metadata": {}
        }, 
        {
            "execution_count": 10, 
            "cell_type": "code", 
            "metadata": {}, 
            "outputs": [
                {
                    "execution_count": 10, 
                    "metadata": {}, 
                    "data": {
                        "text/html": "<div>\n<style scoped>\n    .dataframe tbody tr th:only-of-type {\n        vertical-align: middle;\n    }\n\n    .dataframe tbody tr th {\n        vertical-align: top;\n    }\n\n    .dataframe thead th {\n        text-align: right;\n    }\n</style>\n<table border=\"1\" class=\"dataframe\">\n  <thead>\n    <tr style=\"text-align: right;\">\n      <th></th>\n      <th>Postcode</th>\n      <th>Borough</th>\n      <th>Neighbourhood</th>\n    </tr>\n  </thead>\n  <tbody>\n    <tr>\n      <th>0</th>\n      <td>M4N</td>\n      <td>Central Toronto</td>\n      <td>Lawrence Park, Davisville North, North Toronto...</td>\n    </tr>\n    <tr>\n      <th>1</th>\n      <td>M4W</td>\n      <td>Downtown Toronto</td>\n      <td>Rosedale, Cabbagetown, St. James Town, Church ...</td>\n    </tr>\n    <tr>\n      <th>2</th>\n      <td>M4E</td>\n      <td>East Toronto</td>\n      <td>The Beaches, Riverdale, The Danforth West, Ind...</td>\n    </tr>\n    <tr>\n      <th>3</th>\n      <td>M4B</td>\n      <td>East York</td>\n      <td>Parkview Hill, Woodbine Gardens, Woodbine Heig...</td>\n    </tr>\n    <tr>\n      <th>4</th>\n      <td>M8V</td>\n      <td>Etobicoke</td>\n      <td>Humber Bay Shores, Mimico South, New Toronto, ...</td>\n    </tr>\n    <tr>\n      <th>5</th>\n      <td>M7R</td>\n      <td>Mississauga</td>\n      <td>Canada Post Gateway Processing Centre</td>\n    </tr>\n    <tr>\n      <th>6</th>\n      <td>M2H</td>\n      <td>North York</td>\n      <td>Hillcrest Village, Fairview, Henry Farm, Oriol...</td>\n    </tr>\n    <tr>\n      <th>7</th>\n      <td>M7A</td>\n      <td>Queen's Park</td>\n      <td>Not assigned</td>\n    </tr>\n    <tr>\n      <th>8</th>\n      <td>M1B</td>\n      <td>Scarborough</td>\n      <td>Malvern, Rouge, Highland Creek, Port Union, Ro...</td>\n    </tr>\n    <tr>\n      <th>9</th>\n      <td>M6H</td>\n      <td>West Toronto</td>\n      <td>Dovercourt Village, Dufferin, Little Portugal,...</td>\n    </tr>\n    <tr>\n      <th>10</th>\n      <td>M6C</td>\n      <td>York</td>\n      <td>Humewood-Cedarvale, Caledonia-Fairbanks, Del R...</td>\n    </tr>\n  </tbody>\n</table>\n</div>", 
                        "text/plain": "   Postcode           Borough  \\\n0       M4N   Central Toronto   \n1       M4W  Downtown Toronto   \n2       M4E      East Toronto   \n3       M4B         East York   \n4       M8V         Etobicoke   \n5       M7R       Mississauga   \n6       M2H        North York   \n7       M7A      Queen's Park   \n8       M1B       Scarborough   \n9       M6H      West Toronto   \n10      M6C              York   \n\n                                        Neighbourhood  \n0   Lawrence Park, Davisville North, North Toronto...  \n1   Rosedale, Cabbagetown, St. James Town, Church ...  \n2   The Beaches, Riverdale, The Danforth West, Ind...  \n3   Parkview Hill, Woodbine Gardens, Woodbine Heig...  \n4   Humber Bay Shores, Mimico South, New Toronto, ...  \n5               Canada Post Gateway Processing Centre  \n6   Hillcrest Village, Fairview, Henry Farm, Oriol...  \n7                                        Not assigned  \n8   Malvern, Rouge, Highland Creek, Port Union, Ro...  \n9   Dovercourt Village, Dufferin, Little Portugal,...  \n10  Humewood-Cedarvale, Caledonia-Fairbanks, Del R...  "
                    }, 
                    "output_type": "execute_result"
                }
            ], 
            "source": "columnsList=[\"Postcode\",\"Borough\", \"Neighbourhood\"]\ndf=df.reindex(columns=columnsList)\ndf.head(20)"
        }, 
        {
            "source": "### Remove the phrase \"Not assigned\" from the \"Neighbourhood\" column and replace with \"Queen's Park\" that is same as the entry in the \"Borough\" column.", 
            "cell_type": "markdown", 
            "metadata": {}
        }, 
        {
            "execution_count": 11, 
            "cell_type": "code", 
            "metadata": {}, 
            "outputs": [
                {
                    "execution_count": 11, 
                    "metadata": {}, 
                    "data": {
                        "text/html": "<div>\n<style scoped>\n    .dataframe tbody tr th:only-of-type {\n        vertical-align: middle;\n    }\n\n    .dataframe tbody tr th {\n        vertical-align: top;\n    }\n\n    .dataframe thead th {\n        text-align: right;\n    }\n</style>\n<table border=\"1\" class=\"dataframe\">\n  <thead>\n    <tr style=\"text-align: right;\">\n      <th></th>\n      <th>Postcode</th>\n      <th>Borough</th>\n      <th>Neighbourhood</th>\n    </tr>\n  </thead>\n  <tbody>\n    <tr>\n      <th>0</th>\n      <td>M4N</td>\n      <td>Central Toronto</td>\n      <td>Lawrence Park, Davisville North, North Toronto...</td>\n    </tr>\n    <tr>\n      <th>1</th>\n      <td>M4W</td>\n      <td>Downtown Toronto</td>\n      <td>Rosedale, Cabbagetown, St. James Town, Church ...</td>\n    </tr>\n    <tr>\n      <th>2</th>\n      <td>M4E</td>\n      <td>East Toronto</td>\n      <td>The Beaches, Riverdale, The Danforth West, Ind...</td>\n    </tr>\n    <tr>\n      <th>3</th>\n      <td>M4B</td>\n      <td>East York</td>\n      <td>Parkview Hill, Woodbine Gardens, Woodbine Heig...</td>\n    </tr>\n    <tr>\n      <th>4</th>\n      <td>M8V</td>\n      <td>Etobicoke</td>\n      <td>Humber Bay Shores, Mimico South, New Toronto, ...</td>\n    </tr>\n    <tr>\n      <th>5</th>\n      <td>M7R</td>\n      <td>Mississauga</td>\n      <td>Canada Post Gateway Processing Centre</td>\n    </tr>\n    <tr>\n      <th>6</th>\n      <td>M2H</td>\n      <td>North York</td>\n      <td>Hillcrest Village, Fairview, Henry Farm, Oriol...</td>\n    </tr>\n    <tr>\n      <th>7</th>\n      <td>M7A</td>\n      <td>Queen's Park</td>\n      <td>Queen's Park</td>\n    </tr>\n    <tr>\n      <th>8</th>\n      <td>M1B</td>\n      <td>Scarborough</td>\n      <td>Malvern, Rouge, Highland Creek, Port Union, Ro...</td>\n    </tr>\n    <tr>\n      <th>9</th>\n      <td>M6H</td>\n      <td>West Toronto</td>\n      <td>Dovercourt Village, Dufferin, Little Portugal,...</td>\n    </tr>\n    <tr>\n      <th>10</th>\n      <td>M6C</td>\n      <td>York</td>\n      <td>Humewood-Cedarvale, Caledonia-Fairbanks, Del R...</td>\n    </tr>\n  </tbody>\n</table>\n</div>", 
                        "text/plain": "   Postcode           Borough  \\\n0       M4N   Central Toronto   \n1       M4W  Downtown Toronto   \n2       M4E      East Toronto   \n3       M4B         East York   \n4       M8V         Etobicoke   \n5       M7R       Mississauga   \n6       M2H        North York   \n7       M7A      Queen's Park   \n8       M1B       Scarborough   \n9       M6H      West Toronto   \n10      M6C              York   \n\n                                        Neighbourhood  \n0   Lawrence Park, Davisville North, North Toronto...  \n1   Rosedale, Cabbagetown, St. James Town, Church ...  \n2   The Beaches, Riverdale, The Danforth West, Ind...  \n3   Parkview Hill, Woodbine Gardens, Woodbine Heig...  \n4   Humber Bay Shores, Mimico South, New Toronto, ...  \n5               Canada Post Gateway Processing Centre  \n6   Hillcrest Village, Fairview, Henry Farm, Oriol...  \n7                                        Queen's Park  \n8   Malvern, Rouge, Highland Creek, Port Union, Ro...  \n9   Dovercourt Village, Dufferin, Little Portugal,...  \n10  Humewood-Cedarvale, Caledonia-Fairbanks, Del R...  "
                    }, 
                    "output_type": "execute_result"
                }
            ], 
            "source": "df.replace({'Neighbourhood': 'Not assigned'}, {'Neighbourhood': \"Queen's Park\"}, regex=True)"
        }, 
        {
            "source": "### Let's check the total number of rows now.", 
            "cell_type": "markdown", 
            "metadata": {}
        }, 
        {
            "execution_count": 12, 
            "cell_type": "code", 
            "metadata": {}, 
            "outputs": [
                {
                    "execution_count": 12, 
                    "metadata": {}, 
                    "data": {
                        "text/plain": "(11, 3)"
                    }, 
                    "output_type": "execute_result"
                }
            ], 
            "source": "df.shape"
        }
    ], 
    "metadata": {
        "kernelspec": {
            "display_name": "Python 3.5", 
            "name": "python3", 
            "language": "python"
        }, 
        "language_info": {
            "mimetype": "text/x-python", 
            "nbconvert_exporter": "python", 
            "version": "3.5.5", 
            "name": "python", 
            "file_extension": ".py", 
            "pygments_lexer": "ipython3", 
            "codemirror_mode": {
                "version": 3, 
                "name": "ipython"
            }
        }
    }, 
    "nbformat": 4
}